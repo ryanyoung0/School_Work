{
 "cells": [
  {
   "cell_type": "code",
   "execution_count": null,
   "metadata": {},
   "outputs": [],
   "source": [
    "import numpy as np\n",
    "import matplotlib.pyplot as plt\n",
    "from sklearn.svm import SVC"
   ]
  },
  {
   "cell_type": "code",
   "execution_count": null,
   "metadata": {},
   "outputs": [],
   "source": [
    "# load raw data\n",
    "xdat = np.loadtxt('q1x.dat')\n",
    "ydat = np.loadtxt('q1y.dat')\n",
    "\n",
    "# define training data\n",
    "# NOTE: In this exercise we are not measuring performance\n",
    "# or performing model selection, so for demonstration purposes\n",
    "# we will use all of the data for training and there is no test set.\n",
    "X_train = xdat\n",
    "y_train = ydat"
   ]
  },
  {
   "cell_type": "code",
   "execution_count": null,
   "metadata": {},
   "outputs": [],
   "source": [
    "# fit the linear Support Vector Classifier\n",
    "clf = SVC(C=1, kernel='linear')\n",
    "clf.fit(X_train, y_train)"
   ]
  },
  {
   "cell_type": "code",
   "execution_count": null,
   "metadata": {
    "scrolled": true
   },
   "outputs": [],
   "source": [
    "# plot training data\n",
    "fig, ax = plt.subplots()\n",
    "ax.scatter(xdat[:,0], xdat[:,1], c=ydat, cmap='coolwarm')\n",
    "ax.set(xlabel='x1', ylabel='x2')\n",
    "\n",
    "# set ranges for plots\n",
    "x1_min, x1_max = xdat[:,0].min() - .5, xdat[:,0].max() + .5\n",
    "x2_min, x2_max = xdat[:,1].min() - .5, xdat[:,1].max() + .5\n",
    "xx1 = np.linspace(x1_min, x1_max)\n",
    "\n",
    "# plot the decision boundary\n",
    "w = clf.coef_[0]\n",
    "b = clf.intercept_[0]\n",
    "xx2 = (-w[0]/w[1])*xx1 - b/w[1]\n",
    "ax.plot(xx1, xx2, 'k')\n",
    "\n",
    "# circle the support vectors\n",
    "sv = clf.support_vectors_\n",
    "print('Number of support vectors:', sv.shape[0])\n",
    "ax.scatter(sv[:,0], sv[:,1], s=100, facecolors='none', edgecolors='k')\n",
    "\n",
    "# plot the margin\n",
    "margin = 1/np.linalg.norm(w)\n",
    "a = -w[0]/w[1]\n",
    "xx2_down = xx2-np.sqrt(1+a**2)*margin\n",
    "xx2_up = xx2+np.sqrt(1+a**2)*margin\n",
    "ax.plot(xx1, xx2_down, 'k--')\n",
    "ax.plot(xx1, xx2_up, 'k--')"
   ]
  },
  {
   "cell_type": "code",
   "execution_count": null,
   "metadata": {},
   "outputs": [],
   "source": []
  }
 ],
 "metadata": {
  "kernelspec": {
   "display_name": "Python 3",
   "language": "python",
   "name": "python3"
  },
  "language_info": {
   "codemirror_mode": {
    "name": "ipython",
    "version": 3
   },
   "file_extension": ".py",
   "mimetype": "text/x-python",
   "name": "python",
   "nbconvert_exporter": "python",
   "pygments_lexer": "ipython3",
   "version": "3.6.8"
  }
 },
 "nbformat": 4,
 "nbformat_minor": 2
}
