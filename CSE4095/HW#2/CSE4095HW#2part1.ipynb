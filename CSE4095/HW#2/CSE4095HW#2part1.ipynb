{
 "cells": [
  {
   "cell_type": "code",
   "execution_count": null,
   "metadata": {},
   "outputs": [],
   "source": [
    "import numpy as np\n",
    "import matplotlib.pyplot as plt\n",
    "from sklearn.svm import SVC\n",
    "from sklearn.model_selection import validation_curve"
   ]
  },
  {
   "cell_type": "code",
   "execution_count": null,
   "metadata": {},
   "outputs": [],
   "source": [
    "# load raw data\n",
    "xdat = np.loadtxt('q1x.dat')\n",
    "ydat = np.loadtxt('q1y.dat')"
   ]
  },
  {
   "cell_type": "code",
   "execution_count": null,
   "metadata": {},
   "outputs": [],
   "source": [
    "# use k-fold cross-validation to fit \n",
    "# the linear Support Vector Classifier\n",
    "# for different values of C; performance\n",
    "# metric is accuracy, which is the default\n",
    "# score given by SVC()\n",
    "clf = SVC(kernel='linear')\n",
    "Clist = np.logspace(-4,6,num=6) # note we are using the default log base 10\n",
    "\n",
    "# (Note: n_jobs has been added to speed up calculations via parallelization, \n",
    "# you may adjust this based on your processor or default to 1; \n",
    "# verbose has also been added to print out information while the function is running.\n",
    "train_scores, valid_scores = validation_curve(clf, xdat, ydat, 'C', Clist, cv=10, n_jobs=4, verbose=1)"
   ]
  },
  {
   "cell_type": "code",
   "execution_count": null,
   "metadata": {},
   "outputs": [],
   "source": [
    "# compute the mean training and validation errors over k folds for each C\n",
    "train_scores_mean = np.mean(train_scores, axis=1)\n",
    "valid_scores_mean = np.mean(valid_scores, axis=1)"
   ]
  },
  {
   "cell_type": "code",
   "execution_count": null,
   "metadata": {
    "scrolled": true
   },
   "outputs": [],
   "source": [
    "# plot training and validation error as a function of C\n",
    "# (Note: the validation error is NOT the test error,\n",
    "# which should be computed on a different test set after \n",
    "# model selection.)\n",
    "fig, ax = plt.subplots()\n",
    "ax.plot(Clist, 1-train_scores_mean, 'k-o', label='training')\n",
    "ax.plot(Clist, 1-valid_scores_mean, 'r-o', label='validation')\n",
    "ax.set(xlabel='C', ylabel='1-accuracy', xscale='log', ylim=[0,1], title='linear SVC')\n",
    "ax.legend(loc='best')"
   ]
  },
  {
   "cell_type": "code",
   "execution_count": null,
   "metadata": {},
   "outputs": [],
   "source": []
  }
 ],
 "metadata": {
  "kernelspec": {
   "display_name": "Python 3",
   "language": "python",
   "name": "python3"
  },
  "language_info": {
   "codemirror_mode": {
    "name": "ipython",
    "version": 3
   },
   "file_extension": ".py",
   "mimetype": "text/x-python",
   "name": "python",
   "nbconvert_exporter": "python",
   "pygments_lexer": "ipython3",
   "version": "3.6.8"
  }
 },
 "nbformat": 4,
 "nbformat_minor": 2
}
